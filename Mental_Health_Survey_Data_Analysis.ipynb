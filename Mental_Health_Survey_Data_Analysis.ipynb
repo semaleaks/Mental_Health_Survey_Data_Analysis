{
 "cells": [
  {
   "cell_type": "code",
   "execution_count": 3,
   "id": "654f9f35-30a9-4825-9092-5b8be5bc8f03",
   "metadata": {},
   "outputs": [],
   "source": [
    "import numpy as np\n",
    "import pandas as pd"
   ]
  },
  {
   "cell_type": "code",
   "execution_count": 5,
   "id": "8996f905-94e2-4746-8eac-5e08cd0e4928",
   "metadata": {},
   "outputs": [],
   "source": [
    "df=pd.read_csv(\"C:/Users/Sema/Downloads/survey.csv\")"
   ]
  },
  {
   "cell_type": "code",
   "execution_count": 7,
   "id": "8ccfe7b7-efe8-43ac-9249-8049cc27998a",
   "metadata": {},
   "outputs": [
    {
     "name": "stdout",
     "output_type": "stream",
     "text": [
      "eksik veri sayısı:\n",
      "Timestamp                       0\n",
      "Age                             0\n",
      "Gender                          0\n",
      "Country                         0\n",
      "state                         515\n",
      "self_employed                  18\n",
      "family_history                  0\n",
      "treatment                       0\n",
      "work_interfere                264\n",
      "no_employees                    0\n",
      "remote_work                     0\n",
      "tech_company                    0\n",
      "benefits                        0\n",
      "care_options                    0\n",
      "wellness_program                0\n",
      "seek_help                       0\n",
      "anonymity                       0\n",
      "leave                           0\n",
      "mental_health_consequence       0\n",
      "phys_health_consequence         0\n",
      "coworkers                       0\n",
      "supervisor                      0\n",
      "mental_health_interview         0\n",
      "phys_health_interview           0\n",
      "mental_vs_physical              0\n",
      "obs_consequence                 0\n",
      "comments                     1095\n",
      "dtype: int64\n"
     ]
    }
   ],
   "source": [
    "print(\"eksik veri sayısı:\")\n",
    "print(df.isnull().sum())"
   ]
  },
  {
   "cell_type": "code",
   "execution_count": 73,
   "id": "6157118d-5db6-4ade-aee2-d3db16481012",
   "metadata": {},
   "outputs": [
    {
     "name": "stdout",
     "output_type": "stream",
     "text": [
      "Age Mean: 965679.8379666402\n",
      "Age Median: 31.0\n"
     ]
    }
   ],
   "source": [
    "age_mean = np.mean(df['Age'])\n",
    "age_median = np.median(df['Age'])\n",
    "print(f\"Age Mean: {age_mean}\")\n",
    "print(f\"Age Median: {age_median}\")"
   ]
  },
  {
   "cell_type": "code",
   "execution_count": 15,
   "id": "4caa9356-f25e-4d6c-b8dc-ffe30df317d9",
   "metadata": {},
   "outputs": [],
   "source": [
    "df['Age'] = df['Age'].fillna(age_median)"
   ]
  },
  {
   "cell_type": "code",
   "execution_count": 17,
   "id": "6661c977-eec1-4445-a49e-bcfa751a04b0",
   "metadata": {},
   "outputs": [],
   "source": [
    "df['state'] = df['state'].fillna('Unknown')"
   ]
  },
  {
   "cell_type": "code",
   "execution_count": 19,
   "id": "87d70c9f-af6a-459b-a456-5f976f58e001",
   "metadata": {},
   "outputs": [],
   "source": [
    "df['self_employed'] = df['self_employed'].fillna('Unknown')"
   ]
  },
  {
   "cell_type": "code",
   "execution_count": 21,
   "id": "57f4e6ee-7f4b-4b3e-a269-9d5006d31e99",
   "metadata": {},
   "outputs": [],
   "source": [
    "df['work_interfere'] = df['work_interfere'].fillna('Unknown')"
   ]
  },
  {
   "cell_type": "code",
   "execution_count": 27,
   "id": "ba9ef283-d977-44ad-a16a-e3101ff6052e",
   "metadata": {},
   "outputs": [
    {
     "name": "stdout",
     "output_type": "stream",
     "text": [
      "Eksik veri sayısı:\n",
      "Timestamp                       0\n",
      "Age                             0\n",
      "Gender                          0\n",
      "Country                         0\n",
      "state                           0\n",
      "self_employed                   0\n",
      "family_history                  0\n",
      "treatment                       0\n",
      "work_interfere                  0\n",
      "no_employees                    0\n",
      "remote_work                     0\n",
      "tech_company                    0\n",
      "benefits                        0\n",
      "care_options                    0\n",
      "wellness_program                0\n",
      "seek_help                       0\n",
      "anonymity                       0\n",
      "leave                           0\n",
      "mental_health_consequence       0\n",
      "phys_health_consequence         0\n",
      "coworkers                       0\n",
      "supervisor                      0\n",
      "mental_health_interview         0\n",
      "phys_health_interview           0\n",
      "mental_vs_physical              0\n",
      "obs_consequence                 0\n",
      "comments                     1095\n",
      "dtype: int64\n"
     ]
    }
   ],
   "source": [
    "print(\"Eksik veri sayısı:\")\n",
    "print(df.isnull().sum())"
   ]
  },
  {
   "cell_type": "code",
   "execution_count": 29,
   "id": "ca021e1a-f193-47ce-99ea-03bbef9bb1bf",
   "metadata": {},
   "outputs": [],
   "source": [
    "df=df.drop(columns=['comments'])"
   ]
  },
  {
   "cell_type": "code",
   "execution_count": 31,
   "id": "086e2305-d211-4306-a8f9-8f5e638e4996",
   "metadata": {},
   "outputs": [],
   "source": [
    "df.to_csv(\"C:/Users/Sema/Downloads/cleaned_survey.csv\", index=False)"
   ]
  },
  {
   "cell_type": "code",
   "execution_count": 33,
   "id": "e311b4c3-50b8-4237-9510-23b9edcdf531",
   "metadata": {},
   "outputs": [
    {
     "name": "stdout",
     "output_type": "stream",
     "text": [
      "\n",
      "İlk 5 satır:\n",
      "             Timestamp  Age  Gender         Country    state self_employed  \\\n",
      "0  2014-08-27 11:29:31   37  Female   United States       IL       Unknown   \n",
      "1  2014-08-27 11:29:37   44       M   United States       IN       Unknown   \n",
      "2  2014-08-27 11:29:44   32    Male          Canada  Unknown       Unknown   \n",
      "3  2014-08-27 11:29:46   31    Male  United Kingdom  Unknown       Unknown   \n",
      "4  2014-08-27 11:30:22   31    Male   United States       TX       Unknown   \n",
      "\n",
      "  family_history treatment work_interfere    no_employees  ...   anonymity  \\\n",
      "0             No       Yes          Often            6-25  ...         Yes   \n",
      "1             No        No         Rarely  More than 1000  ...  Don't know   \n",
      "2             No        No         Rarely            6-25  ...  Don't know   \n",
      "3            Yes       Yes          Often          26-100  ...          No   \n",
      "4             No        No          Never         100-500  ...  Don't know   \n",
      "\n",
      "                leave mental_health_consequence phys_health_consequence  \\\n",
      "0       Somewhat easy                        No                      No   \n",
      "1          Don't know                     Maybe                      No   \n",
      "2  Somewhat difficult                        No                      No   \n",
      "3  Somewhat difficult                       Yes                     Yes   \n",
      "4          Don't know                        No                      No   \n",
      "\n",
      "      coworkers supervisor mental_health_interview phys_health_interview  \\\n",
      "0  Some of them        Yes                      No                 Maybe   \n",
      "1            No         No                      No                    No   \n",
      "2           Yes        Yes                     Yes                   Yes   \n",
      "3  Some of them         No                   Maybe                 Maybe   \n",
      "4  Some of them        Yes                     Yes                   Yes   \n",
      "\n",
      "  mental_vs_physical obs_consequence  \n",
      "0                Yes              No  \n",
      "1         Don't know              No  \n",
      "2                 No              No  \n",
      "3                 No             Yes  \n",
      "4         Don't know              No  \n",
      "\n",
      "[5 rows x 26 columns]\n"
     ]
    }
   ],
   "source": [
    "print(\"\\nİlk 5 satır:\")\n",
    "print(df.head())"
   ]
  },
  {
   "cell_type": "code",
   "execution_count": 37,
   "id": "7cf8f37f-aca1-4216-9a32-d4adcf52baa3",
   "metadata": {},
   "outputs": [],
   "source": [
    "df['treatment'] = df['treatment'].map({'Yes' : 1, 'No' : 0})\n",
    "df['self_empoleyed'] = df['self_employed'].map({'Yes' : 1, 'No' : 0, 'Unknown' : np.nan})"
   ]
  },
  {
   "cell_type": "code",
   "execution_count": 39,
   "id": "9d15c551-7694-4edb-aca4-495525c64bb4",
   "metadata": {},
   "outputs": [],
   "source": [
    "df['Age'] = df['Age'].astype(int)"
   ]
  },
  {
   "cell_type": "code",
   "execution_count": 43,
   "id": "e4b40853-a0e5-4d0c-b447-0965dd10ede0",
   "metadata": {},
   "outputs": [],
   "source": [
    "bins = [0, 18, 35, 50, 100]\n",
    "labels = ['0-17', '18-34', '35-49', '50-100']\n",
    "df['Age_Group'] = pd.cut(df['Age'],bins=bins, labels=labels,  right=False)"
   ]
  },
  {
   "cell_type": "code",
   "execution_count": 45,
   "id": "d575b196-a67e-4ac8-9dd4-7565fc0357ad",
   "metadata": {},
   "outputs": [
    {
     "name": "stdout",
     "output_type": "stream",
     "text": [
      "\n",
      "Veri Setininİlk 5 Satırı:\n",
      "Timestamp                      object\n",
      "Age                             int32\n",
      "Gender                         object\n",
      "Country                        object\n",
      "state                          object\n",
      "self_employed                  object\n",
      "family_history                 object\n",
      "treatment                       int64\n",
      "work_interfere                 object\n",
      "no_employees                   object\n",
      "remote_work                    object\n",
      "tech_company                   object\n",
      "benefits                       object\n",
      "care_options                   object\n",
      "wellness_program               object\n",
      "seek_help                      object\n",
      "anonymity                      object\n",
      "leave                          object\n",
      "mental_health_consequence      object\n",
      "phys_health_consequence        object\n",
      "coworkers                      object\n",
      "supervisor                     object\n",
      "mental_health_interview        object\n",
      "phys_health_interview          object\n",
      "mental_vs_physical             object\n",
      "obs_consequence                object\n",
      "self_empoleyed                float64\n",
      "Age_Group                    category\n",
      "dtype: object\n"
     ]
    }
   ],
   "source": [
    "print(\"\\nVeri Setininİlk 5 Satırı:\")\n",
    "print(df.dtypes)"
   ]
  },
  {
   "cell_type": "code",
   "execution_count": 49,
   "id": "e14e32b1-1b1b-493a-9606-695bdc118b8b",
   "metadata": {},
   "outputs": [
    {
     "name": "stdout",
     "output_type": "stream",
     "text": [
      "Age_Group\n",
      "18-34     863\n",
      "35-49     356\n",
      "50-100     32\n",
      "0-17        3\n",
      "Name: count, dtype: int64\n"
     ]
    }
   ],
   "source": [
    "print(df['Age_Group'].value_counts())"
   ]
  },
  {
   "cell_type": "code",
   "execution_count": 51,
   "id": "abff2d31-c0c5-449b-a307-a0414e809496",
   "metadata": {},
   "outputs": [
    {
     "name": "stdout",
     "output_type": "stream",
     "text": [
      "                Age    treatment  self_empoleyed\n",
      "count  1.259000e+03  1259.000000     1241.000000\n",
      "mean   9.656798e+05     0.505957        0.117647\n",
      "std    3.426354e+07     0.500163        0.322320\n",
      "min   -1.726000e+03     0.000000        0.000000\n",
      "25%    2.700000e+01     0.000000        0.000000\n",
      "50%    3.100000e+01     1.000000        0.000000\n",
      "75%    3.600000e+01     1.000000        0.000000\n",
      "max    1.215752e+09     1.000000        1.000000\n"
     ]
    }
   ],
   "source": [
    "print(df.describe())"
   ]
  },
  {
   "cell_type": "code",
   "execution_count": 55,
   "id": "10d9e975-7573-427a-90a7-6ed94c3497cc",
   "metadata": {},
   "outputs": [
    {
     "name": "stdout",
     "output_type": "stream",
     "text": [
      "treatment\n",
      "1    637\n",
      "0    622\n",
      "Name: count, dtype: int64\n",
      "treatment\n",
      "1    637\n",
      "0    622\n",
      "Name: count, dtype: int64\n"
     ]
    }
   ],
   "source": [
    "print(df['treatment'].value_counts())\n",
    "print(df['treatment'].value_counts())"
   ]
  },
  {
   "cell_type": "code",
   "execution_count": 59,
   "id": "e0c87f6c-6d9b-4e54-ac0a-6597ab88fa1c",
   "metadata": {},
   "outputs": [],
   "source": [
    "import matplotlib.pyplot as plt"
   ]
  },
  {
   "cell_type": "code",
   "execution_count": 61,
   "id": "a608a5bf-15c2-4a2f-ac4a-65a74a39a2aa",
   "metadata": {},
   "outputs": [
    {
     "data": {
      "image/png": "[encoded data removed]",
      "text/plain": [
       "<Figure size 800x600 with 1 Axes>"
      ]
     },
     "metadata": {},
     "output_type": "display_data"
    }
   ],
   "source": [
    "plt.figure(figsize=(8, 6))\n",
    "df['Age_Group'].value_counts().plot(kind='bar', color='skyblue', edgecolor='black')\n",
    "plt.title('Age Group Distribution', fontsize=14)\n",
    "plt.xlabel('Age Group', fontsize=12)\n",
    "plt.ylabel('Number of People', fontsize=12)\n",
    "plt.xticks(rotation=0)\n",
    "plt.show()"
   ]
  },
  {
   "cell_type": "code",
   "execution_count": 65,
   "id": "84359da0-1151-4e4e-ab44-2eb9f55cccca",
   "metadata": {},
   "outputs": [
    {
     "data": {
      "image/png": "[encoded data removed]",
      "text/plain": [
       "<Figure size 800x600 with 1 Axes>"
      ]
     },
     "metadata": {},
     "output_type": "display_data"
    }
   ],
   "source": [
    "plt.figure(figsize=(8, 6))\n",
    "df['treatment'].value_counts().plot(kind='bar', color='lightcoral', edgecolor='black')\n",
    "plt.title('Treatment Status Distribution', fontsize=14)\n",
    "plt.xlabel('Treatment Status', fontsize=12)\n",
    "plt.ylabel('Number of People', fontsize=12)\n",
    "plt.xticks(rotation=0)\n",
    "plt.show()"
   ]
  },
  {
   "cell_type": "code",
   "execution_count": 67,
   "id": "483894a4-24a0-4096-8dec-748618f482b6",
   "metadata": {},
   "outputs": [
    {
     "data": {
      "image/png": "[encoded data removed]",
      "text/plain": [
       "<Figure size 800x600 with 1 Axes>"
      ]
     },
     "metadata": {},
     "output_type": "display_data"
    }
   ],
   "source": [
    "plt.figure(figsize=(8, 6))\n",
    "df['self_employed'].value_counts().plot(kind='bar', color='lightgreen', edgecolor='black')\n",
    "plt.title('Self Employed Status Distribution', fontsize=14)\n",
    "plt.xlabel('Self Employed Status', fontsize=12)\n",
    "plt.ylabel('Number of People', fontsize=12)\n",
    "plt.xticks(rotation=0)\n",
    "plt.show()"
   ]
  },
  {
   "cell_type": "code",
   "execution_count": 79,
   "id": "284ef2cd-a846-478e-a657-20fb8b4a396f",
   "metadata": {},
   "outputs": [
    {
     "name": "stdout",
     "output_type": "stream",
     "text": [
      "Average age by age group: [ 8.         28.23174971 39.31460674 55.25      ]\n"
     ]
    }
   ],
   "source": [
    "age_group_means = df.groupby('Age_Group', observed = False)['Age'].mean().values\n",
    "print(\"Average age by age group:\", age_group_means)"
   ]
  },
  {
   "cell_type": "code",
   "execution_count": 91,
   "id": "543eff8f-56b2-4546-a2f9-04b03f9270dd",
   "metadata": {},
   "outputs": [
    {
     "name": "stdout",
     "output_type": "stream",
     "text": [
      "Age Group: 35-49 - Mean: 39.31460674157304, Median: 39.0\n",
      "Age Group: 18-34 - Mean: 28.23174971031286, Median: 29.0\n",
      "Age Group: 50-100 - Mean: 55.25, Median: 55.0\n",
      "Age Group: nan - No data available.\n",
      "Age Group: 0-17 - Mean: 8.0, Median: 8.0\n"
     ]
    }
   ],
   "source": [
    "def calculate_group_statistics(df):\n",
    "    for group in df['Age_Group'].unique():\n",
    "        group_data = df[df['Age_Group'] == group]['Age']\n",
    "        if not group_data.empty:\n",
    "            mean = np.mean(group_data)\n",
    "            median = np.median(group_data)\n",
    "            print(f\"Age Group: {group} - Mean: {mean}, Median: {median}\")\n",
    "        else:\n",
    "            print(f\"Age Group: {group} - No data available.\")\n",
    "calculate_group_statistics(df)"
   ]
  },
  {
   "cell_type": "code",
   "execution_count": null,
   "id": "2d3a81d9-0754-4399-91c8-c91f0026bb7a",
   "metadata": {},
   "outputs": [],
   "source": []
  }
 ],
 "metadata": {
  "kernelspec": {
   "display_name": "Python [conda env:base] *",
   "language": "python",
   "name": "conda-base-py"
  },
  "language_info": {
   "codemirror_mode": {
    "name": "ipython",
    "version": 3
   },
   "file_extension": ".py",
   "mimetype": "text/x-python",
   "name": "python",
   "nbconvert_exporter": "python",
   "pygments_lexer": "ipython3",
   "version": "3.12.7"
  }
 },
 "nbformat": 4,
 "nbformat_minor": 5
}
